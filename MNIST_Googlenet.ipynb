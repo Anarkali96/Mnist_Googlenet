{
 "cells": [
  {
   "cell_type": "code",
   "execution_count": 1,
   "id": "3a79d2c9",
   "metadata": {},
   "outputs": [],
   "source": [
    "import torch, torchvision\n",
    "from torch import nn\n",
    "from torch import optim\n",
    "from torchvision.transforms import ToTensor\n",
    "from torch.utils.data import DataLoader\n",
    "import torch.nn.functional as F\n",
    "import matplotlib.pyplot as plt\n",
    "import requests\n",
    "from PIL import Image\n",
    "from io import BytesIO\n",
    "from torchvision.datasets import ImageFolder\n",
    "\n",
    "\n",
    "import copy\n",
    "from sklearn.metrics import confusion_matrix\n",
    "import pandas as pd\n",
    "import numpy as np\n",
    "from googlenet_pytorch import GoogLeNet"
   ]
  },
  {
   "cell_type": "code",
   "execution_count": null,
   "id": "01ca69a1",
   "metadata": {},
   "outputs": [],
   "source": [
    "numb_batch = 2"
   ]
  },
  {
   "cell_type": "code",
   "execution_count": null,
   "id": "d1a26946",
   "metadata": {},
   "outputs": [],
   "source": [
    "T = torchvision.transforms.Compose([\n",
    "    torchvision.transforms.ToTensor()\n",
    "])\n",
    "# train_data = torchvision.datasets.MNIST('mnist_data', train=True, download=True, transform=T)\n",
    "# val_data = torchvision.datasets.MNIST('mnist_data', train=False, download=True, transform=T)\n",
    "\n",
    "train_data = ImageFolder(r'D:\\nanodataset\\training',transform=T)\n",
    "val_data = ImageFolder(r'D:\\nanodataset\\validation',transform=T)\n",
    "test_data = ImageFolder(r'D:\\nanodataset\\testing',transform=T)\n",
    "# train_dl = torch.utils.data.DataLoader(train_data, batch_size = numb_batch)\n",
    "# val_dl = torch.utils.data.DataLoader(val_data, batch_size = numb_batch)\n",
    "train_dl=DataLoader(train_data, batch_size=numb_batch)\n",
    "val_dl=DataLoader(val_data, batch_size=numb_batch)\n",
    "test_dl=DataLoader(test_data, batch_size=numb_batch)"
   ]
  },
  {
   "cell_type": "code",
   "execution_count": null,
   "id": "0c6b1407",
   "metadata": {},
   "outputs": [],
   "source": [
    "\n",
    "model = GoogLeNet.from_pretrained(\"googlenet\")\n",
    "model.eval()"
   ]
  },
  {
   "cell_type": "code",
   "execution_count": null,
   "id": "01195c00",
   "metadata": {},
   "outputs": [],
   "source": [
    "def validate(model, data):\n",
    "    total = 0\n",
    "    correct = 0\n",
    "    for i, (images, labels) in enumerate(data):\n",
    "        images = images.cuda()\n",
    "        x = model(images)\n",
    "        value, pred = torch.max(x,1)\n",
    "        pred = pred.data.cpu()\n",
    "        total += x.size(0)\n",
    "        correct += torch.sum(pred == labels)\n",
    "    return correct*100./total"
   ]
  },
  {
   "cell_type": "code",
   "execution_count": null,
   "id": "2b53b32e",
   "metadata": {},
   "outputs": [],
   "source": [
    "def train(numb_epoch=3, lr=1e-3, device=\"cpu\"):\n",
    "    accuracies = []\n",
    "    cnn = model.to(device)\n",
    "    cec = nn.CrossEntropyLoss()\n",
    "    optimizer = optim.Adam(cnn.parameters(), lr=lr)\n",
    "    max_accuracy = 0\n",
    "    for epoch in range(numb_epoch):\n",
    "        for i, (images, labels) in enumerate(train_dl):\n",
    "            images = images.to(device)\n",
    "            labels = labels.to(device)\n",
    "            optimizer.zero_grad()\n",
    "            pred = cnn(images)\n",
    "            loss = cec(pred, labels)\n",
    "            loss.backward()\n",
    "            optimizer.step()\n",
    "        accuracy = float(validate(cnn, val_dl))\n",
    "        accuracies.append(accuracy)\n",
    "        if accuracy > max_accuracy:\n",
    "            best_model = copy.deepcopy(cnn)\n",
    "            max_accuracy = accuracy\n",
    "            print(\"Saving Best Model with Accuracy: \", accuracy)\n",
    "        print('Epoch:', epoch+1, \"Accuracy :\", accuracy, '%')\n",
    "    plt.plot(accuracies)\n",
    "    return best_model"
   ]
  },
  {
   "cell_type": "code",
   "execution_count": null,
   "id": "5c3f291d",
   "metadata": {},
   "outputs": [],
   "source": []
  },
  {
   "cell_type": "code",
   "execution_count": null,
   "id": "edddc975",
   "metadata": {},
   "outputs": [],
   "source": [
    "if torch.cuda.is_available():\n",
    "    device = torch.device(\"cuda:0\")\n",
    "else:\n",
    "    device = torch.device(\"cpu\")\n",
    "    print(\"No Cuda Available\")\n",
    "device"
   ]
  },
  {
   "cell_type": "code",
   "execution_count": null,
   "id": "9e8b1023",
   "metadata": {},
   "outputs": [],
   "source": [
    "lenet = train(10, device=device)"
   ]
  },
  {
   "cell_type": "code",
   "execution_count": null,
   "id": "7f768711",
   "metadata": {},
   "outputs": [],
   "source": [
    "#Confusion matrix\n",
    "def predict_dl(model, data):\n",
    "    y_pred = []\n",
    "    y_true = []\n",
    "    for i, (images, labels) in enumerate(data):\n",
    "        images = images.cuda()\n",
    "        x = model(images)\n",
    "        value, pred = torch.max(x, 1)\n",
    "        pred = pred.data.cpu()\n",
    "        y_pred.extend(list(pred.numpy()))\n",
    "        ##.extend is used to iterate\n",
    "        ##.numpy to convert tensor in numpyarray\n",
    "        y_true.extend(list(labels.numpy()))\n",
    "    return np.array(y_pred), np.array(y_true)"
   ]
  },
  {
   "cell_type": "code",
   "execution_count": null,
   "id": "91f69989",
   "metadata": {},
   "outputs": [],
   "source": [
    "y_pred, y_true = predict_dl(lenet, test_dl)"
   ]
  },
  {
   "cell_type": "code",
   "execution_count": null,
   "id": "a910945b",
   "metadata": {},
   "outputs": [],
   "source": [
    "pd.DataFrame(confusion_matrix(y_true, y_pred, labels=np.arange(0,4)))\n"
   ]
  },
  {
   "cell_type": "code",
   "execution_count": null,
   "id": "a418d0a4",
   "metadata": {},
   "outputs": [],
   "source": []
  },
  {
   "cell_type": "code",
   "execution_count": null,
   "id": "5f175c3e",
   "metadata": {},
   "outputs": [],
   "source": []
  }
 ],
 "metadata": {
  "kernelspec": {
   "display_name": "Python 3 (ipykernel)",
   "language": "python",
   "name": "python3"
  },
  "language_info": {
   "codemirror_mode": {
    "name": "ipython",
    "version": 3
   },
   "file_extension": ".py",
   "mimetype": "text/x-python",
   "name": "python",
   "nbconvert_exporter": "python",
   "pygments_lexer": "ipython3",
   "version": "3.7.16"
  }
 },
 "nbformat": 4,
 "nbformat_minor": 5
}
